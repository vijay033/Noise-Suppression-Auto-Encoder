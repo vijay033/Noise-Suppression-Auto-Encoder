{
 "cells": [
  {
   "cell_type": "code",
   "execution_count": 1,
   "metadata": {},
   "outputs": [],
   "source": [
    "import numpy as np\n",
    "import math\n",
    "from PIL import Image\n",
    "import time\n",
    "\n",
    "# Packages we're using\n",
    "import numpy as np\n",
    "import matplotlib.pyplot as plt\n",
    "import copy\n",
    "from scipy.io import wavfile\n",
    "from scipy.signal import butter, lfilter\n",
    "import scipy.ndimage\n",
    "from tqdm import tqdm\n",
    "\n",
    "%matplotlib inline\n",
    "import IPython.display\n",
    "from ipywidgets import interact, interactive, fixed\n",
    "\n",
    "# Packages we're using\n",
    "import numpy as np\n",
    "import matplotlib.pyplot as plt\n",
    "import copy\n",
    "from scipy.io import wavfile\n",
    "from scipy.signal import butter, lfilter\n",
    "import scipy.ndimage\n",
    "\n",
    "import glob\n",
    "import os\n",
    "from tqdm import tqdm\n",
    "# plt, plot, tqdm\n",
    "import warnings\n",
    "warnings.filterwarnings('ignore')"
   ]
  },
  {
   "cell_type": "code",
   "execution_count": 2,
   "metadata": {},
   "outputs": [],
   "source": [
    "import os\n",
    "os.environ[\"CUDA_DEVICE_ORDER\"] = \"PCI_BUS_ID\"\n",
    "os.environ['CUDA_VISIBLE_DEVICES'] = '-1'"
   ]
  },
  {
   "cell_type": "code",
   "execution_count": 3,
   "metadata": {},
   "outputs": [],
   "source": [
    "FFT_LENGTH = 512\n",
    "WINDOW_LENGTH = 512\n",
    "WINDOW_STEP = int(WINDOW_LENGTH / 2)\n",
    "phaseMax = 3.141592653589793 \n",
    "phaseMin = -3.141592653589793\n",
    "magnitudeMax = 5432292.907520762 #3212111.6378762764 # 5432292.907520762\n",
    "magnitudeMin = 0.0"
   ]
  },
  {
   "cell_type": "code",
   "execution_count": 4,
   "metadata": {},
   "outputs": [],
   "source": [
    "def amplifyMagnitudeByLog(d):\n",
    "    return 188.301 * math.log10(d + 1)\n",
    "\n",
    "def weakenAmplifiedMagnitude(d):\n",
    "    return math.pow(10, d/188.301)-1\n",
    "\n",
    "def generateLinearScale(magnitudePixels, phasePixels, \n",
    "                        magnitudeMin, magnitudeMax, phaseMin, phaseMax):\n",
    "    height = magnitudePixels.shape[0]\n",
    "    width = magnitudePixels.shape[1]\n",
    "    magnitudeRange = magnitudeMax - magnitudeMin\n",
    "    phaseRange = phaseMax - phaseMin\n",
    "    rgbArray = np.zeros((height, width, 3), 'uint8')\n",
    "    \n",
    "    for w in range(width):\n",
    "        for h in range(height):\n",
    "            magnitudePixels[h,w] = (magnitudePixels[h,w] - magnitudeMin) / (magnitudeRange) * 255 * 2\n",
    "            magnitudePixels[h,w] = amplifyMagnitudeByLog(magnitudePixels[h,w])\n",
    "            phasePixels[h,w] = (phasePixels[h,w] - phaseMin) / (phaseRange) * 255\n",
    "            red = 255 if magnitudePixels[h,w] > 255 else magnitudePixels[h,w]\n",
    "            green = (magnitudePixels[h,w] - 255) if magnitudePixels[h,w] > 255 else 0\n",
    "            blue = phasePixels[h,w]\n",
    "            rgbArray[h,w,0] = int(red)\n",
    "            rgbArray[h,w,1] = int(green)\n",
    "            rgbArray[h,w,2] = int(blue)\n",
    "    return rgbArray\n",
    "\n",
    "def recoverLinearScale(rgbArray, magnitudeMin, magnitudeMax, \n",
    "                       phaseMin, phaseMax):\n",
    "    width = rgbArray.shape[1]\n",
    "    height = rgbArray.shape[0]\n",
    "    magnitudeVals = rgbArray[:,:,0].astype(float) + rgbArray[:,:,1].astype(float)\n",
    "    phaseVals = rgbArray[:,:,2].astype(float)\n",
    "    phaseRange = phaseMax - phaseMin\n",
    "    magnitudeRange = magnitudeMax - magnitudeMin\n",
    "    for w in range(width):\n",
    "        for h in range(height):\n",
    "            phaseVals[h,w] = (phaseVals[h,w] / 255 * phaseRange) + phaseMin\n",
    "            magnitudeVals[h,w] = weakenAmplifiedMagnitude(magnitudeVals[h,w])\n",
    "            magnitudeVals[h,w] = (magnitudeVals[h,w] / (255*2) * magnitudeRange) + magnitudeMin\n",
    "    return magnitudeVals, phaseVals"
   ]
  },
  {
   "cell_type": "code",
   "execution_count": 5,
   "metadata": {},
   "outputs": [],
   "source": [
    "def generateSpectrogramForWave(signal):\n",
    "    start_time = time.time()\n",
    "    global magnitudeMin\n",
    "    global magnitudeMax\n",
    "    global phaseMin\n",
    "    global phaseMax\n",
    "    buffer = np.zeros(int(signal.size + WINDOW_STEP - (signal.size % WINDOW_STEP)))\n",
    "    buffer[0:len(signal)] = signal\n",
    "    height = int(FFT_LENGTH / 2 + 1)\n",
    "    width = int(len(buffer) / (WINDOW_STEP) - 1)\n",
    "    magnitudePixels = np.zeros((height, width))\n",
    "    phasePixels = np.zeros((height, width))\n",
    "\n",
    "    for w in range(width):\n",
    "        buff = np.zeros(FFT_LENGTH)\n",
    "        stepBuff = buffer[w*WINDOW_STEP:w*WINDOW_STEP + WINDOW_LENGTH]\n",
    "        # apply hanning window\n",
    "        stepBuff = stepBuff * np.hanning(WINDOW_LENGTH)\n",
    "        buff[0:len(stepBuff)] = stepBuff\n",
    "        #buff now contains windowed signal with step length and padded with zeroes to the end\n",
    "        fft = np.fft.rfft(buff)\n",
    "        for h in range(len(fft)):\n",
    "            #print(buff.shape)\n",
    "            #return\n",
    "            magnitude = math.sqrt(fft[h].real**2 + fft[h].imag**2)\n",
    "            if magnitude > magnitudeMax:\n",
    "                magnitudeMax = magnitude \n",
    "            if magnitude < magnitudeMin:\n",
    "                magnitudeMin = magnitude \n",
    "\n",
    "            phase = math.atan2(fft[h].imag, fft[h].real)\n",
    "            if phase > phaseMax:\n",
    "                phaseMax = phase\n",
    "            if phase < phaseMin:\n",
    "                phaseMin = phase\n",
    "            magnitudePixels[height-h-1,w] = magnitude\n",
    "            phasePixels[height-h-1,w] = phase\n",
    "    rgbArray = generateLinearScale(magnitudePixels, phasePixels,\n",
    "                                  magnitudeMin, magnitudeMax, phaseMin, phaseMax)\n",
    "    \n",
    "    \n",
    "    elapsed_time = time.time() - start_time\n",
    "    print('%.2f' % elapsed_time, 's', sep='')\n",
    "    img = Image.fromarray(rgbArray, 'RGB')\n",
    "    return img"
   ]
  },
  {
   "cell_type": "code",
   "execution_count": 6,
   "metadata": {},
   "outputs": [],
   "source": [
    "def recoverSignalFromSpectrogram(numpyarray):\n",
    "#     img = Image.open(filePath)\n",
    "    data = np.array( numpyarray, dtype='uint8' )\n",
    "    width = data.shape[1]\n",
    "    height = data.shape[0]\n",
    "\n",
    "    magnitudeVals, phaseVals \\\n",
    "    = recoverLinearScale(data, magnitudeMin, magnitudeMax, phaseMin, phaseMax)\n",
    "    \n",
    "    recovered = np.zeros(WINDOW_LENGTH * width // 2 + WINDOW_STEP, dtype=np.int16)\n",
    "    recovered = np.array(recovered,dtype=np.int16)\n",
    "    \n",
    "    for w in range(width):\n",
    "        toInverse = np.zeros(height, dtype=np.complex_)\n",
    "        for h in range(height):\n",
    "            magnitude = magnitudeVals[height-h-1,w]\n",
    "            phase = phaseVals[height-h-1,w]\n",
    "            toInverse[h] = magnitude * math.cos(phase) + (1j * magnitude * math.sin(phase))\n",
    "        signal = np.fft.irfft(toInverse)\n",
    "        recovered[w*WINDOW_STEP:w*WINDOW_STEP + WINDOW_LENGTH] += signal[:WINDOW_LENGTH].astype(np.int16)\n",
    "    return recovered"
   ]
  },
  {
   "cell_type": "code",
   "execution_count": 7,
   "metadata": {},
   "outputs": [],
   "source": [
    "rate = 16000"
   ]
  },
  {
   "cell_type": "code",
   "execution_count": 8,
   "metadata": {},
   "outputs": [
    {
     "name": "stdout",
     "output_type": "stream",
     "text": [
      "phaseMax 3.141592653589793 phaseMin -3.141592653589793 magnitudeMax 5432292.907520762 magnitudeMin 0.0\n"
     ]
    }
   ],
   "source": [
    "print(\"phaseMax {} phaseMin {} magnitudeMax {} magnitudeMin {}\".format(phaseMax,phaseMin,magnitudeMax,magnitudeMin))"
   ]
  },
  {
   "cell_type": "code",
   "execution_count": 9,
   "metadata": {},
   "outputs": [],
   "source": [
    "path_Voice = './Voice'"
   ]
  },
  {
   "cell_type": "code",
   "execution_count": 10,
   "metadata": {},
   "outputs": [
    {
     "name": "stderr",
     "output_type": "stream",
     "text": [
      "100%|█████████████████████████████████████████████████████████████████████████████████████████████████████████████████████████████████████████████████████████████████████████████| 1/1 [00:00<00:00, 23.49it/s]\n"
     ]
    }
   ],
   "source": [
    " # Imports\n",
    "from scipy.io import wavfile\n",
    "import scipy.signal as sps\n",
    "\n",
    "# Your new sampling rate\n",
    "new_rate = 16000\n",
    "\n",
    "for filename in tqdm(glob.glob(os.path.join(path_Voice, '*.wav'))):\n",
    "    sampling_rate, data = wavfile.read(filename)\n",
    "    number_of_samples = round(len(data) * float(new_rate) / sampling_rate)\n",
    "    data = sps.resample(data, number_of_samples)\n",
    "    data = np.asarray(data, dtype=np.int16)\n",
    "    wavfile.write(filename,new_rate,data)"
   ]
  },
  {
   "cell_type": "code",
   "execution_count": 11,
   "metadata": {},
   "outputs": [],
   "source": [
    "# Read All the lenght of wav file - Process it for 1 sec and queue up for prediction"
   ]
  },
  {
   "cell_type": "code",
   "execution_count": 12,
   "metadata": {},
   "outputs": [],
   "source": [
    "# Implement"
   ]
  },
  {
   "cell_type": "code",
   "execution_count": 13,
   "metadata": {},
   "outputs": [],
   "source": [
    "from pydub import AudioSegment\n",
    "from pydub.utils import make_chunks"
   ]
  },
  {
   "cell_type": "code",
   "execution_count": 14,
   "metadata": {},
   "outputs": [
    {
     "name": "stdout",
     "output_type": "stream",
     "text": [
      "['./Voice\\\\Voice 002.wav']\n"
     ]
    }
   ],
   "source": [
    "filename = glob.glob(os.path.join(path_Voice, '*.wav'))\n",
    "print(filename)"
   ]
  },
  {
   "cell_type": "code",
   "execution_count": 15,
   "metadata": {},
   "outputs": [
    {
     "name": "stderr",
     "output_type": "stream",
     "text": [
      "\r",
      "  0%|                                                                                                                                                                                     | 0/1 [00:00<?, ?it/s]"
     ]
    },
    {
     "name": "stdout",
     "output_type": "stream",
     "text": [
      "0.16s\n",
      "0.16s\n"
     ]
    },
    {
     "name": "stderr",
     "output_type": "stream",
     "text": [
      "100%|█████████████████████████████████████████████████████████████████████████████████████████████████████████████████████████████████████████████████████████████████████████████| 1/1 [00:00<00:00,  2.27it/s]"
     ]
    },
    {
     "name": "stdout",
     "output_type": "stream",
     "text": [
      "0.11s\n"
     ]
    },
    {
     "name": "stderr",
     "output_type": "stream",
     "text": [
      "\n"
     ]
    }
   ],
   "source": [
    "for filename in tqdm(glob.glob(os.path.join(path_Voice, '*.wav'))):\n",
    "    myaudio = AudioSegment.from_file(filename) \n",
    "    chunk_length_ms = 1000 # pydub calculates in millisec\n",
    "    chunks = make_chunks(myaudio, chunk_length_ms) #Make chunks of one sec\n",
    "    \n",
    "    for i, chunk in enumerate(chunks):\n",
    "        \n",
    "        chunk_name = \"chunk{0}.wav\".format(i)\n",
    "        name = path_Voice+'/'+chunk_name\n",
    "        \n",
    "        chunk.export(name, format=\"wav\")\n",
    "        \n",
    "        rate, data = wavfile.read(path_Voice+'/'+chunk_name)\n",
    "        \n",
    "        \n",
    "        if len(data.shape) >= 2 and data.size > 0:\n",
    "            if data.shape[-1] > 1:\n",
    "                data = data.mean(axis=-1)\n",
    "            else:\n",
    "                data = np.reshape(data, data.shape[:-1])\n",
    "        img = generateSpectrogramForWave(data)\n",
    "        np.save(path_Voice+'/'+chunk_name[:-4]+'.npy', img) # save"
   ]
  },
  {
   "cell_type": "code",
   "execution_count": 16,
   "metadata": {},
   "outputs": [],
   "source": [
    "import tensorflow as tf\n",
    "from tensorflow import keras"
   ]
  },
  {
   "cell_type": "code",
   "execution_count": 17,
   "metadata": {
    "scrolled": true
   },
   "outputs": [
    {
     "name": "stdout",
     "output_type": "stream",
     "text": [
      "Model: \"model_1\"\n",
      "__________________________________________________________________________________________________\n",
      "Layer (type)                    Output Shape         Param #     Connected to                     \n",
      "==================================================================================================\n",
      "input_2 (InputLayer)            [(None, 257, 62, 3)] 0                                            \n",
      "__________________________________________________________________________________________________\n",
      "block_1_conv (Conv2D)           (None, 257, 62, 64)  1792        input_2[0][0]                    \n",
      "__________________________________________________________________________________________________\n",
      "block_1_lrelu (LeakyReLU)       (None, 257, 62, 64)  0           block_1_conv[0][0]               \n",
      "__________________________________________________________________________________________________\n",
      "block_1_drop (Dropout)          (None, 257, 62, 64)  0           block_1_lrelu[0][0]              \n",
      "__________________________________________________________________________________________________\n",
      "block_1_conv_bn (BatchNormaliza (None, 257, 62, 64)  256         block_1_drop[0][0]               \n",
      "__________________________________________________________________________________________________\n",
      "block_2_conv (Conv2D)           (None, 257, 62, 64)  36928       block_1_conv_bn[0][0]            \n",
      "__________________________________________________________________________________________________\n",
      "block_2_lrelu (LeakyReLU)       (None, 257, 62, 64)  0           block_2_conv[0][0]               \n",
      "__________________________________________________________________________________________________\n",
      "block_2_drop (Dropout)          (None, 257, 62, 64)  0           block_2_lrelu[0][0]              \n",
      "__________________________________________________________________________________________________\n",
      "block_2_conv_bn (BatchNormaliza (None, 257, 62, 64)  256         block_2_drop[0][0]               \n",
      "__________________________________________________________________________________________________\n",
      "block_3_conv (Conv2D)           (None, 257, 62, 128) 204928      block_2_conv_bn[0][0]            \n",
      "__________________________________________________________________________________________________\n",
      "block_3_lrelu (LeakyReLU)       (None, 257, 62, 128) 0           block_3_conv[0][0]               \n",
      "__________________________________________________________________________________________________\n",
      "block_3_drop (Dropout)          (None, 257, 62, 128) 0           block_3_lrelu[0][0]              \n",
      "__________________________________________________________________________________________________\n",
      "block_3_conv_bn (BatchNormaliza (None, 257, 62, 128) 512         block_3_drop[0][0]               \n",
      "__________________________________________________________________________________________________\n",
      "block_4_conv (Conv2D)           (None, 257, 62, 128) 147584      block_3_conv_bn[0][0]            \n",
      "__________________________________________________________________________________________________\n",
      "block_4_lrelu (LeakyReLU)       (None, 257, 62, 128) 0           block_4_conv[0][0]               \n",
      "__________________________________________________________________________________________________\n",
      "block_4_drop (Dropout)          (None, 257, 62, 128) 0           block_4_lrelu[0][0]              \n",
      "__________________________________________________________________________________________________\n",
      "block_4_conv_bn (BatchNormaliza (None, 257, 62, 128) 512         block_4_drop[0][0]               \n",
      "__________________________________________________________________________________________________\n",
      "block_5_conv (Conv2D)           (None, 257, 62, 256) 819456      block_4_conv_bn[0][0]            \n",
      "__________________________________________________________________________________________________\n",
      "block_5_lrelu (LeakyReLU)       (None, 257, 62, 256) 0           block_5_conv[0][0]               \n",
      "__________________________________________________________________________________________________\n",
      "block_5_drop (Dropout)          (None, 257, 62, 256) 0           block_5_lrelu[0][0]              \n",
      "__________________________________________________________________________________________________\n",
      "block_5_conv_bn (BatchNormaliza (None, 257, 62, 256) 1024        block_5_drop[0][0]               \n",
      "__________________________________________________________________________________________________\n",
      "block_6_conv (Conv2D)           (None, 257, 62, 512) 1180160     block_5_conv_bn[0][0]            \n",
      "__________________________________________________________________________________________________\n",
      "block_6_lrelu (LeakyReLU)       (None, 257, 62, 512) 0           block_6_conv[0][0]               \n",
      "__________________________________________________________________________________________________\n",
      "block_6_drop (Dropout)          (None, 257, 62, 512) 0           block_6_lrelu[0][0]              \n",
      "__________________________________________________________________________________________________\n",
      "block_6_conv_bn (BatchNormaliza (None, 257, 62, 512) 2048        block_6_drop[0][0]               \n",
      "__________________________________________________________________________________________________\n",
      "block_7_de-conv (Conv2DTranspos (None, 257, 62, 512) 2359808     block_6_conv_bn[0][0]            \n",
      "__________________________________________________________________________________________________\n",
      "block_7_lrelu (LeakyReLU)       (None, 257, 62, 512) 0           block_7_de-conv[0][0]            \n",
      "__________________________________________________________________________________________________\n",
      "block_7_drop (Dropout)          (None, 257, 62, 512) 0           block_7_lrelu[0][0]              \n",
      "__________________________________________________________________________________________________\n",
      "block_7_conv_bn (BatchNormaliza (None, 257, 62, 512) 2048        block_7_drop[0][0]               \n",
      "__________________________________________________________________________________________________\n",
      "skip1 (Concatenate)             (None, 257, 62, 768) 0           block_7_conv_bn[0][0]            \n",
      "                                                                 block_5_conv_bn[0][0]            \n",
      "__________________________________________________________________________________________________\n",
      "block_8_conv (Conv2D)           (None, 257, 62, 256) 1769728     skip1[0][0]                      \n",
      "__________________________________________________________________________________________________\n",
      "block_8_lrelu (LeakyReLU)       (None, 257, 62, 256) 0           block_8_conv[0][0]               \n",
      "__________________________________________________________________________________________________\n",
      "block_8_drop (Dropout)          (None, 257, 62, 256) 0           block_8_lrelu[0][0]              \n",
      "__________________________________________________________________________________________________\n",
      "block_8_conv_bn (BatchNormaliza (None, 257, 62, 256) 1024        block_8_drop[0][0]               \n",
      "__________________________________________________________________________________________________\n",
      "block_9_de-conv (Conv2DTranspos (None, 257, 62, 128) 295040      block_8_conv_bn[0][0]            \n",
      "__________________________________________________________________________________________________\n",
      "block_9_lrelu (LeakyReLU)       (None, 257, 62, 128) 0           block_9_de-conv[0][0]            \n",
      "__________________________________________________________________________________________________\n",
      "block_9_drop (Dropout)          (None, 257, 62, 128) 0           block_9_lrelu[0][0]              \n",
      "__________________________________________________________________________________________________\n",
      "block_9_conv_bn (BatchNormaliza (None, 257, 62, 128) 512         block_9_drop[0][0]               \n",
      "__________________________________________________________________________________________________\n",
      "skip2 (Concatenate)             (None, 257, 62, 256) 0           block_9_conv_bn[0][0]            \n",
      "                                                                 block_3_conv_bn[0][0]            \n",
      "__________________________________________________________________________________________________\n",
      "block_10_conv (Conv2D)          (None, 257, 62, 128) 819328      skip2[0][0]                      \n",
      "__________________________________________________________________________________________________\n",
      "block_10_lrelu (LeakyReLU)      (None, 257, 62, 128) 0           block_10_conv[0][0]              \n",
      "__________________________________________________________________________________________________\n",
      "block_10_drop (Dropout)         (None, 257, 62, 128) 0           block_10_lrelu[0][0]             \n",
      "__________________________________________________________________________________________________\n",
      "block_10_conv_bn (BatchNormaliz (None, 257, 62, 128) 512         block_10_drop[0][0]              \n",
      "__________________________________________________________________________________________________\n",
      "block_11_de-conv (Conv2DTranspo (None, 257, 62, 64)  73792       block_10_conv_bn[0][0]           \n",
      "__________________________________________________________________________________________________\n",
      "block_11_lrelu (LeakyReLU)      (None, 257, 62, 64)  0           block_11_de-conv[0][0]           \n",
      "__________________________________________________________________________________________________\n",
      "block_11_drop (Dropout)         (None, 257, 62, 64)  0           block_11_lrelu[0][0]             \n",
      "__________________________________________________________________________________________________\n",
      "block_11_conv_bn (BatchNormaliz (None, 257, 62, 64)  256         block_11_drop[0][0]              \n",
      "__________________________________________________________________________________________________\n",
      "skip3 (Concatenate)             (None, 257, 62, 128) 0           block_11_conv_bn[0][0]           \n",
      "                                                                 block_2_conv_bn[0][0]            \n",
      "__________________________________________________________________________________________________\n",
      "block_12_conv (Conv2D)          (None, 257, 62, 64)  204864      skip3[0][0]                      \n",
      "__________________________________________________________________________________________________\n",
      "block_12_lrelu (LeakyReLU)      (None, 257, 62, 64)  0           block_12_conv[0][0]              \n",
      "__________________________________________________________________________________________________\n",
      "block_12_drop (Dropout)         (None, 257, 62, 64)  0           block_12_lrelu[0][0]             \n",
      "__________________________________________________________________________________________________\n",
      "block_12_conv_bn (BatchNormaliz (None, 257, 62, 64)  256         block_12_drop[0][0]              \n",
      "__________________________________________________________________________________________________\n",
      "block_13_de-conv (Conv2DTranspo (None, 257, 62, 64)  36928       block_12_conv_bn[0][0]           \n",
      "__________________________________________________________________________________________________\n",
      "block_13_lrelu (LeakyReLU)      (None, 257, 62, 64)  0           block_13_de-conv[0][0]           \n",
      "__________________________________________________________________________________________________\n",
      "block_13_drop (Dropout)         (None, 257, 62, 64)  0           block_13_lrelu[0][0]             \n",
      "__________________________________________________________________________________________________\n",
      "block_13_conv_bn (BatchNormaliz (None, 257, 62, 64)  256         block_13_drop[0][0]              \n",
      "__________________________________________________________________________________________________\n",
      "concatenate (Concatenate)       (None, 257, 62, 128) 0           block_13_conv_bn[0][0]           \n",
      "                                                                 block_1_conv_bn[0][0]            \n",
      "__________________________________________________________________________________________________\n",
      "final_conv (Conv2D)             (None, 257, 62, 3)   3459        concatenate[0][0]                \n",
      "==================================================================================================\n",
      "Total params: 7,963,267\n",
      "Trainable params: 7,958,531\n",
      "Non-trainable params: 4,736\n",
      "__________________________________________________________________________________________________\n"
     ]
    }
   ],
   "source": [
    "new_model = tf.keras.models.load_model('model.h5')\n",
    "\n",
    "# Check its architecture\n",
    "new_model.summary()"
   ]
  },
  {
   "cell_type": "code",
   "execution_count": 18,
   "metadata": {},
   "outputs": [],
   "source": [
    "ROW = 257\n",
    "COL = 62\n",
    "\n",
    "test_pred = []"
   ]
  },
  {
   "cell_type": "code",
   "execution_count": 19,
   "metadata": {
    "scrolled": true
   },
   "outputs": [
    {
     "name": "stderr",
     "output_type": "stream",
     "text": [
      "\r",
      "  0%|                                                                                                                                                                                     | 0/3 [00:00<?, ?it/s]"
     ]
    },
    {
     "name": "stdout",
     "output_type": "stream",
     "text": [
      "(257, 62, 3)\n"
     ]
    },
    {
     "name": "stderr",
     "output_type": "stream",
     "text": [
      "\r",
      " 33%|█████████████████████████████████████████████████████████▋                                                                                                                   | 1/3 [00:02<00:04,  2.08s/it]"
     ]
    },
    {
     "name": "stdout",
     "output_type": "stream",
     "text": [
      "(257, 62, 3)\n"
     ]
    },
    {
     "name": "stderr",
     "output_type": "stream",
     "text": [
      " 67%|███████████████████████████████████████████████████████████████████████████████████████████████████████████████████▎                                                         | 2/3 [00:03<00:01,  1.89s/it]\n"
     ]
    }
   ],
   "source": [
    "count = 0\n",
    "rate = 16000\n",
    "\n",
    "for filename in tqdm(glob.glob(os.path.join(path_Voice, '*.npy'))):\n",
    "    img_test = np.load(filename)\n",
    "    row_,col_,_ = img_test.shape\n",
    "    \n",
    "    if col_ < COL:\n",
    "        break\n",
    "    \n",
    "    print(img_test.shape)\n",
    "    \n",
    "    img_test = img_test/255\n",
    "    img_test = img_test.reshape(-1, ROW,COL,3)\n",
    "    decoded_imgs = new_model.predict(img_test) #predict\n",
    "    decoded_imgs = decoded_imgs.reshape(ROW,COL,3)\n",
    "    decoded_imgs = decoded_imgs*255\n",
    "    decoded_imgs = decoded_imgs.astype(np.int16)\n",
    "    data = recoverSignalFromSpectrogram(decoded_imgs)\n",
    "    file = './'+\"testpred_{}\".format(count)+'.wav'\n",
    "    scipy.io.wavfile.write(file, rate, data)\n",
    "    test_pred.append(file)\n",
    "    count = count+1"
   ]
  },
  {
   "cell_type": "code",
   "execution_count": 20,
   "metadata": {},
   "outputs": [
    {
     "data": {
      "text/plain": [
       "['./testpred_0.wav', './testpred_1.wav']"
      ]
     },
     "execution_count": 20,
     "metadata": {},
     "output_type": "execute_result"
    }
   ],
   "source": [
    "test_pred"
   ]
  },
  {
   "cell_type": "code",
   "execution_count": 21,
   "metadata": {},
   "outputs": [],
   "source": [
    "from pydub import AudioSegment"
   ]
  },
  {
   "cell_type": "code",
   "execution_count": 22,
   "metadata": {},
   "outputs": [],
   "source": [
    "sound = 0"
   ]
  },
  {
   "cell_type": "code",
   "execution_count": 23,
   "metadata": {},
   "outputs": [],
   "source": [
    "path_recovered = './Voice/recovered/'"
   ]
  },
  {
   "cell_type": "code",
   "execution_count": 24,
   "metadata": {},
   "outputs": [
    {
     "name": "stdout",
     "output_type": "stream",
     "text": [
      "./testpred_0.wav\n",
      "./testpred_1.wav\n"
     ]
    },
    {
     "data": {
      "text/plain": [
       "<_io.BufferedRandom name='./Voice/recovered/soundJoined.wav'>"
      ]
     },
     "execution_count": 24,
     "metadata": {},
     "output_type": "execute_result"
    }
   ],
   "source": [
    "for i in range(len(test_pred)):\n",
    "    print(test_pred[i])\n",
    "    sound += AudioSegment.from_wav(test_pred[i])\n",
    "    os.remove(test_pred[i])\n",
    "sound.export(path_recovered+\"soundJoined.wav\", format=\"wav\")"
   ]
  },
  {
   "cell_type": "code",
   "execution_count": 25,
   "metadata": {},
   "outputs": [],
   "source": [
    "def signaltonoise(a, axis, ddof): \n",
    "    a = np.asanyarray(a) \n",
    "    m = a.mean(axis) \n",
    "    sd = a.std(axis = axis, ddof = ddof) \n",
    "    return np.where(sd == 0, 0, m / sd)"
   ]
  },
  {
   "cell_type": "code",
   "execution_count": 26,
   "metadata": {},
   "outputs": [],
   "source": [
    "import scipy.io.wavfile as wavfile\n",
    "import numpy\n",
    "import os.path\n",
    "from scipy import stats\n",
    "\n",
    "\n",
    "# def signaltonoise(a, axis=0, ddof=0):\n",
    "#     a = np.asanyarray(a)\n",
    "#     m = a.mean(axis)\n",
    "#     sd = a.std(axis=axis, ddof=ddof)\n",
    "#     return np.where(sd == 0, 0, m/sd)\n",
    "\n",
    "# def signaltonoise(Arr, axis=0, ddof=0):\n",
    "#     Arr = np.asanyarray(Arr)\n",
    "#     me = Arr.mean(axis)\n",
    "#     sd = Arr.std(axis=axis, ddof=ddof)\n",
    "#     return np.where(sd == 0, 0, me/sd)\n",
    "\n",
    "    \n",
    "def signaltonoise(a, axis=0, ddof=0):\n",
    "    mx = np.amax(a)\n",
    "    a = np.divide(a,mx)\n",
    "    a = np.square(a)\n",
    "    a = np.asanyarray(a)\n",
    "    m = a.mean(axis)\n",
    "    sd = a.std(axis=axis, ddof=ddof)\n",
    "    return np.where(sd == 0, 0, m/sd)\n",
    "\n",
    "\n",
    "# def snr(file):\n",
    "#   if (os.path.isfile(file)):\n",
    "#     data = wavfile.read(file)[1]\n",
    "#     singleChannel = data\n",
    "#     try:\n",
    "#       singleChannel = numpy.sum(data, axis=1)\n",
    "#     except:\n",
    "#       # was mono after all\n",
    "#       pass\n",
    "      \n",
    "#     norm = singleChannel / (max(numpy.amax(singleChannel), -1 * numpy.amin(singleChannel)))\n",
    "#     return stats.signaltonoise(norm)"
   ]
  },
  {
   "cell_type": "code",
   "execution_count": 27,
   "metadata": {},
   "outputs": [],
   "source": [
    "clean = './Voice/results'\n",
    "noisy = './Voice/samples'"
   ]
  },
  {
   "cell_type": "code",
   "execution_count": 28,
   "metadata": {
    "scrolled": true
   },
   "outputs": [
    {
     "name": "stderr",
     "output_type": "stream",
     "text": [
      "100%|██████████████████████████████████████████████████████████████████████████████████████████████████████████████████████████████████████████████████████████████████████████| 13/13 [00:00<00:00, 206.90it/s]"
     ]
    },
    {
     "name": "stdout",
     "output_type": "stream",
     "text": [
      "./Voice/samples\\19-198-0034.wav 0.610921998799237 -2.140142359989448\n",
      "./Voice/samples\\196-122150-0032.wav 0.3914110236610155 -4.073669470793176\n",
      "./Voice/samples\\3982-182255-0009.wav 0.4539806918618618 -3.4296261761903213\n",
      "./Voice/samples\\4406-16883-0021.wav 0.4031533440378431 -3.945297335053095\n",
      "./Voice/samples\\6437-66173-0052.wav 0.4451663869406391 -3.5147763525671123\n",
      "./Voice/samples\\83-11691-0035.wav 0.3876813066572281 -4.115251394398863\n",
      "./Voice/samples\\8609-262281-0010.wav 0.39839244584157096 -3.9968890508876282\n",
      "./Voice/samples\\amb.wav 0.4071004999408123 -3.902983642838214\n",
      "./Voice/samples\\hairdryer.wav 0.5047302965775814 -2.969406258358389\n",
      "./Voice/samples\\Voice 002.wav 0.3450745918277261 -4.620870170494259\n",
      "./Voice/samples\\Voice 003.wav 0.37636136813976545 -4.243949613998555\n",
      "./Voice/samples\\Voice 004.wav 0.24028040323556604 -6.192816478965057\n",
      "./Voice/samples\\Voice 006.wav 0.24169029235172376 -6.167407929632485\n"
     ]
    },
    {
     "name": "stderr",
     "output_type": "stream",
     "text": [
      "\n"
     ]
    }
   ],
   "source": [
    "for filename in tqdm(glob.glob(os.path.join(noisy, '*.wav'))):\n",
    "    data = wavfile.read(filename)[1]\n",
    "    \n",
    "    #Single Channel\n",
    "    if len(data.shape) >= 2 and data.size > 0:\n",
    "        if data.shape[-1] > 1:\n",
    "            data = data.mean(axis=-1)\n",
    "        else:\n",
    "            data = np.reshape(data, data.shape[:-1])\n",
    "    snr = signaltonoise(data)\n",
    "    snr_db = 10 * np.log10(snr) \n",
    "    print(filename,snr,snr_db)"
   ]
  },
  {
   "cell_type": "code",
   "execution_count": 29,
   "metadata": {},
   "outputs": [
    {
     "name": "stderr",
     "output_type": "stream",
     "text": [
      "100%|██████████████████████████████████████████████████████████████████████████████████████████████████████████████████████████████████████████████████████████████████████████| 13/13 [00:00<00:00, 501.34it/s]"
     ]
    },
    {
     "name": "stdout",
     "output_type": "stream",
     "text": [
      "./Voice/results\\19-198-0034.wav 0.360540155898119 -4.430463578134739\n",
      "./Voice/results\\196-122150-0032.wav 0.3115271478101334 -5.0650410107415365\n",
      "./Voice/results\\3982-182255-0009.wav 0.3192070938789617 -4.959274656977031\n",
      "./Voice/results\\4406-16883-0021.wav 0.3768884543647751 -4.23787166563317\n",
      "./Voice/results\\6437-66173-0052.wav 0.35910947735905774 -4.44773133135056\n",
      "./Voice/results\\83-11691-0035.wav 0.3831126729598597 -4.166734817796328\n",
      "./Voice/results\\8609-262281-0010.wav 0.15567534530167088 -8.077801623019603\n",
      "./Voice/results\\amb.wav 0.2952368350016249 -5.29829459044242\n",
      "./Voice/results\\hairdryer.wav 0.26894718925215066 -5.70332990139004\n",
      "./Voice/results\\Voice 002.wav 0.2903214598370544 -5.371208610186352\n",
      "./Voice/results\\Voice 003.wav 0.28206661975600605 -5.496483059521439\n",
      "./Voice/results\\Voice 004.wav 0.2432314870795846 -6.139802049759371\n",
      "./Voice/results\\Voice 006.wav 0.23557507891819165 -6.278706547201235\n"
     ]
    },
    {
     "name": "stderr",
     "output_type": "stream",
     "text": [
      "\n"
     ]
    }
   ],
   "source": [
    "for filename in tqdm(glob.glob(os.path.join(clean, '*.wav'))):\n",
    "    data = wavfile.read(filename)[1]\n",
    "    \n",
    "    #Single Channel\n",
    "    if len(data.shape) >= 2 and data.size > 0:\n",
    "        if data.shape[-1] > 1:\n",
    "            data = data.mean(axis=-1)\n",
    "        else:\n",
    "            data = np.reshape(data, data.shape[:-1])\n",
    "            \n",
    "    snr = signaltonoise(data)\n",
    "    snr_db = 10 * np.log10(snr) \n",
    "    print(filename,snr,snr_db)"
   ]
  },
  {
   "cell_type": "markdown",
   "metadata": {},
   "source": [
    "# Remove \".PNG\""
   ]
  },
  {
   "cell_type": "code",
   "execution_count": 30,
   "metadata": {},
   "outputs": [],
   "source": [
    "import os\n",
    "from tqdm import tqdm\n",
    "import glob\n",
    "import shutil\n",
    "\n",
    "for filename in glob.glob(os.path.join(clean, '*.png')):\n",
    "    os.remove(filename)\n",
    "for filename in glob.glob(os.path.join(noisy, '*.png')):\n",
    "    os.remove(filename)"
   ]
  },
  {
   "cell_type": "markdown",
   "metadata": {},
   "source": [
    "# Spectrogram of Clean Files"
   ]
  },
  {
   "cell_type": "code",
   "execution_count": 31,
   "metadata": {},
   "outputs": [],
   "source": [
    "wav_list = os.listdir(clean)\n",
    "num_wavs = len(clean)"
   ]
  },
  {
   "cell_type": "code",
   "execution_count": 32,
   "metadata": {},
   "outputs": [
    {
     "name": "stdout",
     "output_type": "stream",
     "text": [
      "0.88s\n",
      "0.83s\n",
      "0.84s\n",
      "0.85s\n",
      "0.82s\n",
      "0.97s\n",
      "0.83s\n",
      "0.34s\n",
      "0.30s\n",
      "0.36s\n",
      "0.31s\n",
      "0.34s\n",
      "0.37s\n"
     ]
    }
   ],
   "source": [
    "for n in range(num_wavs-2):\n",
    "    name_A = wav_list[n]\n",
    "    path_A = os.path.join(clean,name_A)\n",
    "    rate, data = wavfile.read(path_A)\n",
    "    # Average over windows.\n",
    "    if len(data.shape) >= 2 and data.size > 0:\n",
    "        if data.shape[-1] > 1:\n",
    "            data = data.mean(axis=-1)\n",
    "        else:\n",
    "            data = np.reshape(data, data.shape[:-1])\n",
    "    # Only use a short clip for our demo\n",
    "    if np.shape(data)[0] / float(rate) > 5:\n",
    "        data = data[0 : rate * 5]\n",
    "    img = generateSpectrogramForWave(data)\n",
    "    img.save(path_A[:-4]+'.png')"
   ]
  },
  {
   "cell_type": "code",
   "execution_count": 33,
   "metadata": {},
   "outputs": [],
   "source": [
    "# Spectrogram of noisy Files"
   ]
  },
  {
   "cell_type": "code",
   "execution_count": 34,
   "metadata": {},
   "outputs": [],
   "source": [
    "wav_list = os.listdir(noisy)\n",
    "num_wavs = len(noisy)"
   ]
  },
  {
   "cell_type": "code",
   "execution_count": 35,
   "metadata": {},
   "outputs": [
    {
     "name": "stdout",
     "output_type": "stream",
     "text": [
      "0.85s\n",
      "0.80s\n",
      "0.79s\n",
      "0.81s\n",
      "0.80s\n",
      "0.85s\n",
      "0.85s\n",
      "0.43s\n",
      "1.38s\n",
      "0.45s\n",
      "0.54s\n",
      "0.46s\n",
      "0.50s\n"
     ]
    }
   ],
   "source": [
    "for n in range(num_wavs-2):\n",
    "    name_A = wav_list[n]\n",
    "    path_A = os.path.join(noisy,name_A)\n",
    "    rate, data = wavfile.read(path_A)\n",
    "    # Average over windows.\n",
    "    if len(data.shape) >= 2 and data.size > 0:\n",
    "        if data.shape[-1] > 1:\n",
    "            data = data.mean(axis=-1)\n",
    "        else:\n",
    "            data = np.reshape(data, data.shape[:-1])\n",
    "    # Only use a short clip for our demo\n",
    "    if np.shape(data)[0] / float(rate) > 5:\n",
    "        data = data[0 : rate * 5]\n",
    "    img = generateSpectrogramForWave(data)\n",
    "    img.save(path_A[:-4]+'.png')"
   ]
  },
  {
   "cell_type": "code",
   "execution_count": null,
   "metadata": {},
   "outputs": [],
   "source": []
  },
  {
   "cell_type": "code",
   "execution_count": 36,
   "metadata": {},
   "outputs": [],
   "source": [
    "# from snreval import SNREval\n",
    "\n",
    "# snr_eval_clean = SNREval(clean)\n",
    "# snr_eval_noisy = SNREval(noisy)\n",
    "\n",
    "# # Either with a single .wav file\n",
    "# # df = snr_eval.eval(\"/path/to/wave/file.wav\")\n",
    "\n",
    "# # Or with a multiple .wav files listed in a .txt file\n",
    "# df_clean = snr_eval_clean.eval(clean+'/'+'results.txt')\n",
    "# df_noisy = snr_eval_noisy.eval(noisy+'/'+'samples.txt')\n",
    "\n",
    "# print(df_clean)"
   ]
  },
  {
   "cell_type": "code",
   "execution_count": 37,
   "metadata": {},
   "outputs": [],
   "source": [
    "# Post Processing After Removing Noise From CNN\n",
    "# https://www.ombarus.com/desnoise.py\n",
    "# https://www.youtube.com/watch?v=f9P7SeUlzQg"
   ]
  },
  {
   "cell_type": "code",
   "execution_count": 38,
   "metadata": {},
   "outputs": [],
   "source": [
    "# import sys\n",
    "# import os\n",
    "# os.environ[\"path\"] = os.path.dirname(sys.executable) + \";\" + os.environ[\"path\"]\n",
    "# import glob\n",
    "# import operator\n",
    "# import re\n",
    "# import datetime\n",
    "# import dateutil.relativedelta\n",
    "# import win32gui\n",
    "# import win32ui\n",
    "# import win32con\n",
    "# import win32api\n",
    "# import numpy\n",
    "# import json\n",
    "# import csv\n",
    "# import urllib.request\n",
    "# import urllib.error\n",
    "# import scipy.ndimage\n",
    "# import scipy.stats\n",
    "# import multiprocessing\n",
    "# import subprocess\n",
    "# import matplotlib.pyplot as plt\n",
    "# from bs4 import BeautifulSoup\n",
    "# from PIL import Image\n",
    "# from time import strftime\n",
    "# from time import sleep\n",
    "# from operator import itemgetter\n",
    "# from pydub import AudioSegment"
   ]
  },
  {
   "cell_type": "code",
   "execution_count": 39,
   "metadata": {},
   "outputs": [],
   "source": [
    "###############################################################################\n",
    "# GLOBAL CONSTANTS\n",
    "###############################################################################\n",
    "\n",
    "# TEST_FILE = \"test.wav\"\n",
    "# SILENCE_FILE = \"silence.wav\"\n",
    "# SILENCE_PROFILE = \"silence.prof\"\n",
    "# SOX_PATH = '\"C:\\\\Program Files (x86)\\\\sox-14-4-2\\\\sox.exe\"'\n",
    "\n",
    "# PRINT_LEVEL=2\n",
    "\n",
    "\n",
    "###############################################################################\n",
    "# UTILITIES\n",
    "###############################################################################\n",
    "\n",
    "# def myprint(str, level=0):\n",
    "# \tif (level >= PRINT_LEVEL):\n",
    "# \t\tprint(str)\n",
    "###############################################################################\n",
    "# MAIN\n",
    "###############################################################################\n",
    "# def find_silence(in_file):\n",
    "# \tsound1 = AudioSegment.from_file(in_file, format=\"wav\")\n",
    "# \tms = 0\n",
    "# \tcurrent_silence = 0\n",
    "# \tlonguest_time = 500\n",
    "# \tlonguest_val = None\n",
    "# \tfor i in sound1:\n",
    "# \t\tif i.dBFS > -38.0:\n",
    "# \t\t\tlength = ms - current_silence\n",
    "# \t\t\tif length > longuest_time:\n",
    "# \t\t\t\tlonguest_val = sound1[current_silence : ms]\n",
    "# \t\t\t\tlonguest_time = length\n",
    "# \t\t\tcurrent_silence = ms + 1\n",
    "# \t\tms += 1\n",
    "\t\n",
    "# \tmyprint(\"longuest segment \" + str(longuest_time / 1000.0) + \" seconds\", 2)\n",
    "# \tlonguest_val[200:-200].export(SILENCE_FILE, format=\"wav\")\n",
    "\n",
    "\t\n",
    "# def sox_denoise(in_file):\n",
    "\t\n",
    "# \t#sox in.wav noiseprof out.prof\n",
    "# \t#sox in.wav out.wav noisered out.prof 0.3\n",
    "# \tsound1 = AudioSegment.from_file(SILENCE_FILE, format=\"wav\")\n",
    "# \tsegment_length_sec = len(sound1) / 1000.0\n",
    "# \tcommand = '{sox} \"{wav_in}\" -n trim 0 {silence_len} noiseprof {prof_out}'.format(sox=SOX_PATH, wav_in=SILENCE_FILE, silence_len=segment_length_sec, prof_out=SILENCE_PROFILE)\n",
    "# \tmyprint(command, 0)\n",
    "# \tmyprint(subprocess.call(command), 1)\n",
    "\t\n",
    "# \tout_file = os.path.join(os.path.dirname(in_file), \"cleaned\", os.path.basename(in_file))\n",
    "# \tif not os.path.exists(os.path.dirname(out_file)):\n",
    "# \t\tos.makedirs(os.path.dirname(out_file))\n",
    "\t\n",
    "# \tcommand = '{sox} \"{wav_in}\" \"{wav_out}\" noisered {prof_in} 0.3'.format(sox=SOX_PATH, wav_in=in_file, wav_out=out_file, prof_in=SILENCE_PROFILE)\n",
    "# \tmyprint(command, 0)\n",
    "# \tmyprint(subprocess.call(command), 1)\n",
    "\t\t\n",
    "# def cleanup():\n",
    "# \tos.remove(SILENCE_FILE)\n",
    "# \tos.remove(SILENCE_PROFILE)\n",
    "\t\n",
    "\t\t\n",
    "###############################################################################\n",
    "# MAIN\n",
    "###############################################################################\n",
    "\t\t\n",
    "# def do_actions(actions, params):\n",
    "# \tfile_list = glob.glob(os.path.join(params[\"root\"],\"*.wav\"))\n",
    "# \tcount = 1\n",
    "# \tfor f in file_list:\n",
    "# \t\tmyprint(\"[{}/{}] Processing : {}\".format(count, len(file_list), f), 4)\n",
    "# \t\tcount += 1\n",
    "# \t\tif \"find_silence\" in actions:\n",
    "# \t\t\tfind_silence(f)\n",
    "# \t\tif \"sox_denoise\" in actions:\n",
    "# \t\t\tsox_denoise(f)\n",
    "# \tif \"cleanup\" in actions:\n",
    "# \t\tcleanup()\n",
    "\t\t\n",
    "\t\t\n",
    "# if __name__ == '__main__':\n",
    "# \tactions = [\n",
    "# \t\t\"find_silence\",\n",
    "# \t\t\"sox_denoise\",\n",
    "# \t\t\"cleanup\",\n",
    "# \t\t\"nothing\" # just so I don't need to play with the last ,\n",
    "# \t]\n",
    "# \tparams = {\n",
    "# \t\t\"root\" : sys.argv[1],\n",
    "# \t\t#\"root\" : \".\",\n",
    "# \t\t\"nothing\" : None # don't have to deal with last ,\n",
    "# \t}\n",
    "# \tdo_actions(actions, params)\n",
    "\t\n",
    "# \tsys.exit(0)"
   ]
  },
  {
   "cell_type": "code",
   "execution_count": null,
   "metadata": {},
   "outputs": [],
   "source": []
  }
 ],
 "metadata": {
  "kernelspec": {
   "display_name": "Python 3",
   "language": "python",
   "name": "python3"
  },
  "language_info": {
   "codemirror_mode": {
    "name": "ipython",
    "version": 3
   },
   "file_extension": ".py",
   "mimetype": "text/x-python",
   "name": "python",
   "nbconvert_exporter": "python",
   "pygments_lexer": "ipython3",
   "version": "3.7.6"
  }
 },
 "nbformat": 4,
 "nbformat_minor": 4
}

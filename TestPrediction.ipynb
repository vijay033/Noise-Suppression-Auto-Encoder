{
 "cells": [
  {
   "cell_type": "code",
   "execution_count": 1,
   "metadata": {},
   "outputs": [],
   "source": [
    "import numpy as np\n",
    "import math\n",
    "from PIL import Image\n",
    "import time\n",
    "\n",
    "# Packages we're using\n",
    "import numpy as np\n",
    "import matplotlib.pyplot as plt\n",
    "import copy\n",
    "from scipy.io import wavfile\n",
    "from scipy.signal import butter, lfilter\n",
    "import scipy.ndimage\n",
    "from tqdm import tqdm\n",
    "\n",
    "%matplotlib inline\n",
    "import IPython.display\n",
    "from ipywidgets import interact, interactive, fixed\n",
    "\n",
    "# Packages we're using\n",
    "import numpy as np\n",
    "import matplotlib.pyplot as plt\n",
    "import copy\n",
    "from scipy.io import wavfile\n",
    "from scipy.signal import butter, lfilter\n",
    "import scipy.ndimage\n",
    "\n",
    "import glob\n",
    "import os\n",
    "from tqdm import tqdm\n",
    "# plt, plot, tqdm\n",
    "import warnings\n",
    "warnings.filterwarnings('ignore')"
   ]
  },
  {
   "cell_type": "code",
   "execution_count": 2,
   "metadata": {},
   "outputs": [],
   "source": [
    "FFT_LENGTH = 512\n",
    "WINDOW_LENGTH = 512\n",
    "WINDOW_STEP = int(WINDOW_LENGTH / 2)\n",
    "phaseMax = 3.141592653589793 \n",
    "phaseMin = -3.141592653589793\n",
    "magnitudeMax = 3212111.6378762764 # 5432292.907520762\n",
    "magnitudeMin = 0.0"
   ]
  },
  {
   "cell_type": "code",
   "execution_count": 3,
   "metadata": {},
   "outputs": [],
   "source": [
    "def amplifyMagnitudeByLog(d):\n",
    "    return 188.301 * math.log10(d + 1)\n",
    "\n",
    "def weakenAmplifiedMagnitude(d):\n",
    "    return math.pow(10, d/188.301)-1\n",
    "\n",
    "def generateLinearScale(magnitudePixels, phasePixels, \n",
    "                        magnitudeMin, magnitudeMax, phaseMin, phaseMax):\n",
    "    height = magnitudePixels.shape[0]\n",
    "    width = magnitudePixels.shape[1]\n",
    "    magnitudeRange = magnitudeMax - magnitudeMin\n",
    "    phaseRange = phaseMax - phaseMin\n",
    "    rgbArray = np.zeros((height, width, 3), 'uint8')\n",
    "    \n",
    "    for w in range(width):\n",
    "        for h in range(height):\n",
    "            magnitudePixels[h,w] = (magnitudePixels[h,w] - magnitudeMin) / (magnitudeRange) * 255 * 2\n",
    "            magnitudePixels[h,w] = amplifyMagnitudeByLog(magnitudePixels[h,w])\n",
    "            phasePixels[h,w] = (phasePixels[h,w] - phaseMin) / (phaseRange) * 255\n",
    "            red = 255 if magnitudePixels[h,w] > 255 else magnitudePixels[h,w]\n",
    "            green = (magnitudePixels[h,w] - 255) if magnitudePixels[h,w] > 255 else 0\n",
    "            blue = phasePixels[h,w]\n",
    "            rgbArray[h,w,0] = int(red)\n",
    "            rgbArray[h,w,1] = int(green)\n",
    "            rgbArray[h,w,2] = int(blue)\n",
    "    return rgbArray\n",
    "\n",
    "def recoverLinearScale(rgbArray, magnitudeMin, magnitudeMax, \n",
    "                       phaseMin, phaseMax):\n",
    "    width = rgbArray.shape[1]\n",
    "    height = rgbArray.shape[0]\n",
    "    magnitudeVals = rgbArray[:,:,0].astype(float) + rgbArray[:,:,1].astype(float)\n",
    "    phaseVals = rgbArray[:,:,2].astype(float)\n",
    "    phaseRange = phaseMax - phaseMin\n",
    "    magnitudeRange = magnitudeMax - magnitudeMin\n",
    "    for w in range(width):\n",
    "        for h in range(height):\n",
    "            phaseVals[h,w] = (phaseVals[h,w] / 255 * phaseRange) + phaseMin\n",
    "            magnitudeVals[h,w] = weakenAmplifiedMagnitude(magnitudeVals[h,w])\n",
    "            magnitudeVals[h,w] = (magnitudeVals[h,w] / (255*2) * magnitudeRange) + magnitudeMin\n",
    "    return magnitudeVals, phaseVals"
   ]
  },
  {
   "cell_type": "code",
   "execution_count": 4,
   "metadata": {},
   "outputs": [],
   "source": [
    "def generateSpectrogramForWave(signal):\n",
    "    start_time = time.time()\n",
    "    global magnitudeMin\n",
    "    global magnitudeMax\n",
    "    global phaseMin\n",
    "    global phaseMax\n",
    "    buffer = np.zeros(int(signal.size + WINDOW_STEP - (signal.size % WINDOW_STEP)))\n",
    "    buffer[0:len(signal)] = signal\n",
    "    height = int(FFT_LENGTH / 2 + 1)\n",
    "    width = int(len(buffer) / (WINDOW_STEP) - 1)\n",
    "    magnitudePixels = np.zeros((height, width))\n",
    "    phasePixels = np.zeros((height, width))\n",
    "\n",
    "    for w in range(width):\n",
    "        buff = np.zeros(FFT_LENGTH)\n",
    "        stepBuff = buffer[w*WINDOW_STEP:w*WINDOW_STEP + WINDOW_LENGTH]\n",
    "        # apply hanning window\n",
    "        stepBuff = stepBuff * np.hanning(WINDOW_LENGTH)\n",
    "        buff[0:len(stepBuff)] = stepBuff\n",
    "        #buff now contains windowed signal with step length and padded with zeroes to the end\n",
    "        fft = np.fft.rfft(buff)\n",
    "        for h in range(len(fft)):\n",
    "            #print(buff.shape)\n",
    "            #return\n",
    "            magnitude = math.sqrt(fft[h].real**2 + fft[h].imag**2)\n",
    "            if magnitude > magnitudeMax:\n",
    "                magnitudeMax = magnitude \n",
    "            if magnitude < magnitudeMin:\n",
    "                magnitudeMin = magnitude \n",
    "\n",
    "            phase = math.atan2(fft[h].imag, fft[h].real)\n",
    "            if phase > phaseMax:\n",
    "                phaseMax = phase\n",
    "            if phase < phaseMin:\n",
    "                phaseMin = phase\n",
    "            magnitudePixels[height-h-1,w] = magnitude\n",
    "            phasePixels[height-h-1,w] = phase\n",
    "    rgbArray = generateLinearScale(magnitudePixels, phasePixels,\n",
    "                                  magnitudeMin, magnitudeMax, phaseMin, phaseMax)\n",
    "    \n",
    "    \n",
    "    elapsed_time = time.time() - start_time\n",
    "    print('%.2f' % elapsed_time, 's', sep='')\n",
    "    img = Image.fromarray(rgbArray, 'RGB')\n",
    "    return img"
   ]
  },
  {
   "cell_type": "code",
   "execution_count": 5,
   "metadata": {},
   "outputs": [],
   "source": [
    "def recoverSignalFromSpectrogram(numpyarray):\n",
    "#     img = Image.open(filePath)\n",
    "    data = np.array( numpyarray, dtype='uint8' )\n",
    "    width = data.shape[1]\n",
    "    height = data.shape[0]\n",
    "\n",
    "    magnitudeVals, phaseVals \\\n",
    "    = recoverLinearScale(data, magnitudeMin, magnitudeMax, phaseMin, phaseMax)\n",
    "    \n",
    "    recovered = np.zeros(WINDOW_LENGTH * width // 2 + WINDOW_STEP, dtype=np.int16)\n",
    "    recovered = np.array(recovered,dtype=np.int16)\n",
    "    \n",
    "    for w in range(width):\n",
    "        toInverse = np.zeros(height, dtype=np.complex_)\n",
    "        for h in range(height):\n",
    "            magnitude = magnitudeVals[height-h-1,w]\n",
    "            phase = phaseVals[height-h-1,w]\n",
    "            toInverse[h] = magnitude * math.cos(phase) + (1j * magnitude * math.sin(phase))\n",
    "        signal = np.fft.irfft(toInverse)\n",
    "        recovered[w*WINDOW_STEP:w*WINDOW_STEP + WINDOW_LENGTH] += signal[:WINDOW_LENGTH].astype(np.int16)\n",
    "    return recovered"
   ]
  },
  {
   "cell_type": "code",
   "execution_count": 6,
   "metadata": {},
   "outputs": [],
   "source": [
    "rate = 16000"
   ]
  },
  {
   "cell_type": "code",
   "execution_count": 7,
   "metadata": {},
   "outputs": [
    {
     "name": "stdout",
     "output_type": "stream",
     "text": [
      "phaseMax 3.141592653589793 phaseMin -3.141592653589793 magnitudeMax 3212111.6378762764 magnitudeMin 0.0\n"
     ]
    }
   ],
   "source": [
    "print(\"phaseMax {} phaseMin {} magnitudeMax {} magnitudeMin {}\".format(phaseMax,phaseMin,magnitudeMax,magnitudeMin))"
   ]
  },
  {
   "cell_type": "code",
   "execution_count": 8,
   "metadata": {},
   "outputs": [],
   "source": [
    "path_Voice = './Voice'"
   ]
  },
  {
   "cell_type": "code",
   "execution_count": 9,
   "metadata": {},
   "outputs": [
    {
     "name": "stderr",
     "output_type": "stream",
     "text": [
      "100%|█████████████████████████████████████████████████████████████████████████████████████████████████████████████████████████████████████████████████████████████████████████████| 1/1 [00:00<00:00, 19.28it/s]\n"
     ]
    }
   ],
   "source": [
    " # Imports\n",
    "from scipy.io import wavfile\n",
    "import scipy.signal as sps\n",
    "\n",
    "# Your new sampling rate\n",
    "new_rate = 16000\n",
    "\n",
    "for filename in tqdm(glob.glob(os.path.join(path_Voice, '*.wav'))):\n",
    "    sampling_rate, data = wavfile.read(filename)\n",
    "    number_of_samples = round(len(data) * float(new_rate) / sampling_rate)\n",
    "    data = sps.resample(data, number_of_samples)\n",
    "    data = np.asarray(data, dtype=np.int16)\n",
    "    wavfile.write(filename,new_rate,data)"
   ]
  },
  {
   "cell_type": "code",
   "execution_count": 10,
   "metadata": {},
   "outputs": [],
   "source": [
    "# Read All the lenght of wav file - Process it for 1 sec and queue up for prediction"
   ]
  },
  {
   "cell_type": "code",
   "execution_count": 11,
   "metadata": {},
   "outputs": [],
   "source": [
    "# Implement"
   ]
  },
  {
   "cell_type": "code",
   "execution_count": 12,
   "metadata": {},
   "outputs": [],
   "source": [
    "from pydub import AudioSegment\n",
    "from pydub.utils import make_chunks"
   ]
  },
  {
   "cell_type": "code",
   "execution_count": 13,
   "metadata": {},
   "outputs": [
    {
     "name": "stdout",
     "output_type": "stream",
     "text": [
      "['./Voice\\\\Voice 002.wav']\n"
     ]
    }
   ],
   "source": [
    "filename = glob.glob(os.path.join(path_Voice, '*.wav'))\n",
    "print(filename)"
   ]
  },
  {
   "cell_type": "code",
   "execution_count": 14,
   "metadata": {},
   "outputs": [
    {
     "name": "stderr",
     "output_type": "stream",
     "text": [
      "\r",
      "  0%|                                                                                                                                                                                     | 0/1 [00:00<?, ?it/s]"
     ]
    },
    {
     "name": "stdout",
     "output_type": "stream",
     "text": [
      "0.19s\n"
     ]
    },
    {
     "name": "stderr",
     "output_type": "stream",
     "text": [
      "100%|█████████████████████████████████████████████████████████████████████████████████████████████████████████████████████████████████████████████████████████████████████████████| 1/1 [00:00<00:00,  1.90it/s]"
     ]
    },
    {
     "name": "stdout",
     "output_type": "stream",
     "text": [
      "0.19s\n",
      "0.13s\n"
     ]
    },
    {
     "name": "stderr",
     "output_type": "stream",
     "text": [
      "\n"
     ]
    }
   ],
   "source": [
    "for filename in tqdm(glob.glob(os.path.join(path_Voice, '*.wav'))):\n",
    "    myaudio = AudioSegment.from_file(filename) \n",
    "    chunk_length_ms = 1000 # pydub calculates in millisec\n",
    "    chunks = make_chunks(myaudio, chunk_length_ms) #Make chunks of one sec\n",
    "    \n",
    "    for i, chunk in enumerate(chunks):\n",
    "        \n",
    "        chunk_name = \"chunk{0}.wav\".format(i)\n",
    "        name = path_Voice+'/'+chunk_name\n",
    "        \n",
    "        chunk.export(name, format=\"wav\")\n",
    "        \n",
    "        rate, data = wavfile.read(path_Voice+'/'+chunk_name)\n",
    "        \n",
    "        \n",
    "        if len(data.shape) >= 2 and data.size > 0:\n",
    "            if data.shape[-1] > 1:\n",
    "                data = data.mean(axis=-1)\n",
    "            else:\n",
    "                data = np.reshape(data, data.shape[:-1])\n",
    "        img = generateSpectrogramForWave(data)\n",
    "        np.save(path_Voice+'/'+chunk_name[:-4]+'.npy', img) # save"
   ]
  },
  {
   "cell_type": "code",
   "execution_count": 15,
   "metadata": {},
   "outputs": [],
   "source": [
    "import tensorflow as tf\n",
    "from tensorflow import keras"
   ]
  },
  {
   "cell_type": "code",
   "execution_count": 16,
   "metadata": {
    "scrolled": true
   },
   "outputs": [
    {
     "name": "stdout",
     "output_type": "stream",
     "text": [
      "Model: \"model_1\"\n",
      "__________________________________________________________________________________________________\n",
      "Layer (type)                    Output Shape         Param #     Connected to                     \n",
      "==================================================================================================\n",
      "input_2 (InputLayer)            [(None, 257, 62, 3)] 0                                            \n",
      "__________________________________________________________________________________________________\n",
      "block_1_conv (Conv2D)           (None, 257, 62, 64)  1792        input_2[0][0]                    \n",
      "__________________________________________________________________________________________________\n",
      "block_1_lrelu (LeakyReLU)       (None, 257, 62, 64)  0           block_1_conv[0][0]               \n",
      "__________________________________________________________________________________________________\n",
      "block_1_drop (Dropout)          (None, 257, 62, 64)  0           block_1_lrelu[0][0]              \n",
      "__________________________________________________________________________________________________\n",
      "block_1_conv_bn (BatchNormaliza (None, 257, 62, 64)  256         block_1_drop[0][0]               \n",
      "__________________________________________________________________________________________________\n",
      "block_2_conv (Conv2D)           (None, 257, 62, 64)  36928       block_1_conv_bn[0][0]            \n",
      "__________________________________________________________________________________________________\n",
      "block_2_lrelu (LeakyReLU)       (None, 257, 62, 64)  0           block_2_conv[0][0]               \n",
      "__________________________________________________________________________________________________\n",
      "block_2_drop (Dropout)          (None, 257, 62, 64)  0           block_2_lrelu[0][0]              \n",
      "__________________________________________________________________________________________________\n",
      "block_2_conv_bn (BatchNormaliza (None, 257, 62, 64)  256         block_2_drop[0][0]               \n",
      "__________________________________________________________________________________________________\n",
      "block_3_conv (Conv2D)           (None, 257, 62, 128) 204928      block_2_conv_bn[0][0]            \n",
      "__________________________________________________________________________________________________\n",
      "block_3_lrelu (LeakyReLU)       (None, 257, 62, 128) 0           block_3_conv[0][0]               \n",
      "__________________________________________________________________________________________________\n",
      "block_3_drop (Dropout)          (None, 257, 62, 128) 0           block_3_lrelu[0][0]              \n",
      "__________________________________________________________________________________________________\n",
      "block_3_conv_bn (BatchNormaliza (None, 257, 62, 128) 512         block_3_drop[0][0]               \n",
      "__________________________________________________________________________________________________\n",
      "block_4_conv (Conv2D)           (None, 257, 62, 128) 147584      block_3_conv_bn[0][0]            \n",
      "__________________________________________________________________________________________________\n",
      "block_4_lrelu (LeakyReLU)       (None, 257, 62, 128) 0           block_4_conv[0][0]               \n",
      "__________________________________________________________________________________________________\n",
      "block_4_drop (Dropout)          (None, 257, 62, 128) 0           block_4_lrelu[0][0]              \n",
      "__________________________________________________________________________________________________\n",
      "block_4_conv_bn (BatchNormaliza (None, 257, 62, 128) 512         block_4_drop[0][0]               \n",
      "__________________________________________________________________________________________________\n",
      "block_5_conv (Conv2D)           (None, 257, 62, 256) 819456      block_4_conv_bn[0][0]            \n",
      "__________________________________________________________________________________________________\n",
      "block_5_lrelu (LeakyReLU)       (None, 257, 62, 256) 0           block_5_conv[0][0]               \n",
      "__________________________________________________________________________________________________\n",
      "block_5_drop (Dropout)          (None, 257, 62, 256) 0           block_5_lrelu[0][0]              \n",
      "__________________________________________________________________________________________________\n",
      "block_5_conv_bn (BatchNormaliza (None, 257, 62, 256) 1024        block_5_drop[0][0]               \n",
      "__________________________________________________________________________________________________\n",
      "block_6_conv (Conv2D)           (None, 257, 62, 512) 1180160     block_5_conv_bn[0][0]            \n",
      "__________________________________________________________________________________________________\n",
      "block_6_lrelu (LeakyReLU)       (None, 257, 62, 512) 0           block_6_conv[0][0]               \n",
      "__________________________________________________________________________________________________\n",
      "block_6_drop (Dropout)          (None, 257, 62, 512) 0           block_6_lrelu[0][0]              \n",
      "__________________________________________________________________________________________________\n",
      "block_6_conv_bn (BatchNormaliza (None, 257, 62, 512) 2048        block_6_drop[0][0]               \n",
      "__________________________________________________________________________________________________\n",
      "block_7_de-conv (Conv2DTranspos (None, 257, 62, 512) 2359808     block_6_conv_bn[0][0]            \n",
      "__________________________________________________________________________________________________\n",
      "block_7_lrelu (LeakyReLU)       (None, 257, 62, 512) 0           block_7_de-conv[0][0]            \n",
      "__________________________________________________________________________________________________\n",
      "block_7_drop (Dropout)          (None, 257, 62, 512) 0           block_7_lrelu[0][0]              \n",
      "__________________________________________________________________________________________________\n",
      "block_7_conv_bn (BatchNormaliza (None, 257, 62, 512) 2048        block_7_drop[0][0]               \n",
      "__________________________________________________________________________________________________\n",
      "skip1 (Concatenate)             (None, 257, 62, 768) 0           block_7_conv_bn[0][0]            \n",
      "                                                                 block_5_conv_bn[0][0]            \n",
      "__________________________________________________________________________________________________\n",
      "block_8_conv (Conv2D)           (None, 257, 62, 256) 1769728     skip1[0][0]                      \n",
      "__________________________________________________________________________________________________\n",
      "block_8_lrelu (LeakyReLU)       (None, 257, 62, 256) 0           block_8_conv[0][0]               \n",
      "__________________________________________________________________________________________________\n",
      "block_8_drop (Dropout)          (None, 257, 62, 256) 0           block_8_lrelu[0][0]              \n",
      "__________________________________________________________________________________________________\n",
      "block_8_conv_bn (BatchNormaliza (None, 257, 62, 256) 1024        block_8_drop[0][0]               \n",
      "__________________________________________________________________________________________________\n",
      "block_9_de-conv (Conv2DTranspos (None, 257, 62, 128) 295040      block_8_conv_bn[0][0]            \n",
      "__________________________________________________________________________________________________\n",
      "block_9_lrelu (LeakyReLU)       (None, 257, 62, 128) 0           block_9_de-conv[0][0]            \n",
      "__________________________________________________________________________________________________\n",
      "block_9_drop (Dropout)          (None, 257, 62, 128) 0           block_9_lrelu[0][0]              \n",
      "__________________________________________________________________________________________________\n",
      "block_9_conv_bn (BatchNormaliza (None, 257, 62, 128) 512         block_9_drop[0][0]               \n",
      "__________________________________________________________________________________________________\n",
      "skip2 (Concatenate)             (None, 257, 62, 256) 0           block_9_conv_bn[0][0]            \n",
      "                                                                 block_3_conv_bn[0][0]            \n",
      "__________________________________________________________________________________________________\n",
      "block_10_conv (Conv2D)          (None, 257, 62, 128) 819328      skip2[0][0]                      \n",
      "__________________________________________________________________________________________________\n",
      "block_10_lrelu (LeakyReLU)      (None, 257, 62, 128) 0           block_10_conv[0][0]              \n",
      "__________________________________________________________________________________________________\n",
      "block_10_drop (Dropout)         (None, 257, 62, 128) 0           block_10_lrelu[0][0]             \n",
      "__________________________________________________________________________________________________\n",
      "block_10_conv_bn (BatchNormaliz (None, 257, 62, 128) 512         block_10_drop[0][0]              \n",
      "__________________________________________________________________________________________________\n",
      "block_11_de-conv (Conv2DTranspo (None, 257, 62, 64)  73792       block_10_conv_bn[0][0]           \n",
      "__________________________________________________________________________________________________\n",
      "block_11_lrelu (LeakyReLU)      (None, 257, 62, 64)  0           block_11_de-conv[0][0]           \n",
      "__________________________________________________________________________________________________\n",
      "block_11_drop (Dropout)         (None, 257, 62, 64)  0           block_11_lrelu[0][0]             \n",
      "__________________________________________________________________________________________________\n",
      "block_11_conv_bn (BatchNormaliz (None, 257, 62, 64)  256         block_11_drop[0][0]              \n",
      "__________________________________________________________________________________________________\n",
      "skip3 (Concatenate)             (None, 257, 62, 128) 0           block_11_conv_bn[0][0]           \n",
      "                                                                 block_2_conv_bn[0][0]            \n",
      "__________________________________________________________________________________________________\n",
      "block_12_conv (Conv2D)          (None, 257, 62, 64)  204864      skip3[0][0]                      \n",
      "__________________________________________________________________________________________________\n",
      "block_12_lrelu (LeakyReLU)      (None, 257, 62, 64)  0           block_12_conv[0][0]              \n",
      "__________________________________________________________________________________________________\n",
      "block_12_drop (Dropout)         (None, 257, 62, 64)  0           block_12_lrelu[0][0]             \n",
      "__________________________________________________________________________________________________\n",
      "block_12_conv_bn (BatchNormaliz (None, 257, 62, 64)  256         block_12_drop[0][0]              \n",
      "__________________________________________________________________________________________________\n",
      "block_13_de-conv (Conv2DTranspo (None, 257, 62, 64)  36928       block_12_conv_bn[0][0]           \n",
      "__________________________________________________________________________________________________\n",
      "block_13_lrelu (LeakyReLU)      (None, 257, 62, 64)  0           block_13_de-conv[0][0]           \n",
      "__________________________________________________________________________________________________\n",
      "block_13_drop (Dropout)         (None, 257, 62, 64)  0           block_13_lrelu[0][0]             \n",
      "__________________________________________________________________________________________________\n",
      "block_13_conv_bn (BatchNormaliz (None, 257, 62, 64)  256         block_13_drop[0][0]              \n",
      "__________________________________________________________________________________________________\n",
      "concatenate (Concatenate)       (None, 257, 62, 128) 0           block_13_conv_bn[0][0]           \n",
      "                                                                 block_1_conv_bn[0][0]            \n",
      "__________________________________________________________________________________________________\n",
      "final_conv (Conv2D)             (None, 257, 62, 3)   3459        concatenate[0][0]                \n",
      "==================================================================================================\n",
      "Total params: 7,963,267\n",
      "Trainable params: 7,958,531\n",
      "Non-trainable params: 4,736\n",
      "__________________________________________________________________________________________________\n"
     ]
    }
   ],
   "source": [
    "new_model = tf.keras.models.load_model('model.h5')\n",
    "\n",
    "# Check its architecture\n",
    "new_model.summary()"
   ]
  },
  {
   "cell_type": "code",
   "execution_count": 17,
   "metadata": {},
   "outputs": [],
   "source": [
    "ROW = 257\n",
    "COL = 62\n",
    "\n",
    "test_pred = []"
   ]
  },
  {
   "cell_type": "code",
   "execution_count": 19,
   "metadata": {
    "scrolled": true
   },
   "outputs": [],
   "source": [
    "count = 0\n",
    "\n",
    "for filename in tqdm(glob.glob(os.path.join(path_Voice, '*.npy'))):\n",
    "    img_test = np.load(filename)\n",
    "    row_,col_,_ = img_test.shape\n",
    "    \n",
    "    if col_ < COL:\n",
    "        break\n",
    "    \n",
    "    print(img_test.shape)\n",
    "    \n",
    "    img_test = img_test/255\n",
    "    img_test = img_test.reshape(-1, ROW,COL,3)\n",
    "    decoded_imgs = new_model.predict(img_test) #predict\n",
    "    decoded_imgs = decoded_imgs.reshape(ROW,COL,3)\n",
    "    decoded_imgs = decoded_imgs*255\n",
    "    decoded_imgs = decoded_imgs.astype(np.int16)\n",
    "    data = recoverSignalFromSpectrogram(decoded_imgs)\n",
    "    file = './'+\"testpred_{}\".format(count)+'.wav'\n",
    "    scipy.io.wavfile.write(file, rate, data)\n",
    "    test_pred.append(file)\n",
    "    count = count+1"
   ]
  },
  {
   "cell_type": "code",
   "execution_count": null,
   "metadata": {},
   "outputs": [],
   "source": [
    "test_pred"
   ]
  },
  {
   "cell_type": "code",
   "execution_count": null,
   "metadata": {},
   "outputs": [],
   "source": [
    "from pydub import AudioSegment"
   ]
  },
  {
   "cell_type": "code",
   "execution_count": null,
   "metadata": {},
   "outputs": [],
   "source": [
    "sound = 0"
   ]
  },
  {
   "cell_type": "code",
   "execution_count": null,
   "metadata": {},
   "outputs": [],
   "source": [
    "for i in range(len(test_pred)):\n",
    "    print(test_pred[i])\n",
    "    sound += AudioSegment.from_wav(test_pred[i])\n",
    "sound.export(\"./soundJoined.wav\", format=\"wav\")"
   ]
  },
  {
   "cell_type": "code",
   "execution_count": null,
   "metadata": {},
   "outputs": [],
   "source": []
  }
 ],
 "metadata": {
  "kernelspec": {
   "display_name": "Python 3",
   "language": "python",
   "name": "python3"
  },
  "language_info": {
   "codemirror_mode": {
    "name": "ipython",
    "version": 3
   },
   "file_extension": ".py",
   "mimetype": "text/x-python",
   "name": "python",
   "nbconvert_exporter": "python",
   "pygments_lexer": "ipython3",
   "version": "3.7.6"
  }
 },
 "nbformat": 4,
 "nbformat_minor": 4
}

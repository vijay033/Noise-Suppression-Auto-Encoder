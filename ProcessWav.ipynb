{
 "cells": [
  {
   "cell_type": "code",
   "execution_count": 5,
   "metadata": {},
   "outputs": [],
   "source": [
    "# Imports"
   ]
  },
  {
   "cell_type": "code",
   "execution_count": null,
   "metadata": {},
   "outputs": [],
   "source": [
    "import numpy as np\n",
    "import matplotlib.pyplot as plt\n",
    "import numpy as np\n",
    "import os\n",
    "from scipy.stats import norm\n",
    "import pandas as pd\n",
    "\n",
    "%matplotlib inline\n",
    "import IPython.display\n",
    "from ipywidgets import interact, interactive, fixed"
   ]
  },
  {
   "cell_type": "code",
   "execution_count": 2,
   "metadata": {},
   "outputs": [],
   "source": [
    "%matplotlib inline\n",
    "import IPython.display\n",
    "from ipywidgets import interact, interactive, fixed\n",
    "\n",
    "# Packages we're using\n",
    "import numpy as np\n",
    "import matplotlib.pyplot as plt\n",
    "import copy\n",
    "from scipy.io import wavfile\n",
    "from scipy.signal import butter, lfilter\n",
    "import scipy.ndimage\n",
    "\n",
    "import glob\n",
    "import os\n",
    "from tqdm import tqdm\n",
    "# plt, plot, tqdm\n",
    "import warnings\n",
    "warnings.filterwarnings('ignore')"
   ]
  },
  {
   "cell_type": "code",
   "execution_count": 3,
   "metadata": {},
   "outputs": [],
   "source": [
    "# Packages we're using\n",
    "import numpy as np\n",
    "import matplotlib.pyplot as plt\n",
    "import copy\n",
    "from scipy.io import wavfile\n",
    "from scipy.signal import butter, lfilter\n",
    "import scipy.ndimage\n",
    "from tqdm import tqdm"
   ]
  },
  {
   "cell_type": "code",
   "execution_count": 4,
   "metadata": {},
   "outputs": [],
   "source": [
    "import numpy as np\n",
    "import math\n",
    "from PIL import Image\n",
    "import time"
   ]
  },
  {
   "cell_type": "code",
   "execution_count": 6,
   "metadata": {},
   "outputs": [],
   "source": [
    "# Initializations"
   ]
  },
  {
   "cell_type": "code",
   "execution_count": 5,
   "metadata": {},
   "outputs": [],
   "source": [
    "FFT_LENGTH = 512\n",
    "WINDOW_LENGTH = 512\n",
    "WINDOW_STEP = int(WINDOW_LENGTH / 2)\n",
    "magnitudeMin = float(\"inf\")\n",
    "magnitudeMax = float(\"-inf\")\n",
    "phaseMin = float(\"inf\")\n",
    "phaseMax = float(\"-inf\")"
   ]
  },
  {
   "cell_type": "code",
   "execution_count": 6,
   "metadata": {},
   "outputs": [],
   "source": [
    "def amplifyMagnitudeByLog(d):\n",
    "    return 188.301 * math.log10(d + 1)\n",
    "\n",
    "def weakenAmplifiedMagnitude(d):\n",
    "    return math.pow(10, d/188.301)-1\n",
    "\n",
    "def generateLinearScale(magnitudePixels, phasePixels, \n",
    "                        magnitudeMin, magnitudeMax, phaseMin, phaseMax):\n",
    "    height = magnitudePixels.shape[0]\n",
    "    width = magnitudePixels.shape[1]\n",
    "    magnitudeRange = magnitudeMax - magnitudeMin\n",
    "    phaseRange = phaseMax - phaseMin\n",
    "    rgbArray = np.zeros((height, width, 3), 'uint8')\n",
    "    \n",
    "    for w in range(width):\n",
    "        for h in range(height):\n",
    "            magnitudePixels[h,w] = (magnitudePixels[h,w] - magnitudeMin) / (magnitudeRange) * 255 * 2\n",
    "            magnitudePixels[h,w] = amplifyMagnitudeByLog(magnitudePixels[h,w])\n",
    "            phasePixels[h,w] = (phasePixels[h,w] - phaseMin) / (phaseRange) * 255\n",
    "            red = 255 if magnitudePixels[h,w] > 255 else magnitudePixels[h,w]\n",
    "            green = (magnitudePixels[h,w] - 255) if magnitudePixels[h,w] > 255 else 0\n",
    "            blue = phasePixels[h,w]\n",
    "            rgbArray[h,w,0] = int(red)\n",
    "            rgbArray[h,w,1] = int(green)\n",
    "            rgbArray[h,w,2] = int(blue)\n",
    "    return rgbArray\n",
    "\n",
    "def recoverLinearScale(rgbArray, magnitudeMin, magnitudeMax, \n",
    "                       phaseMin, phaseMax):\n",
    "    width = rgbArray.shape[1]\n",
    "    height = rgbArray.shape[0]\n",
    "    print(phaseMax,phaseMin)\n",
    "    magnitudeVals = rgbArray[:,:,0].astype(float) + rgbArray[:,:,1].astype(float)\n",
    "    phaseVals = rgbArray[:,:,2].astype(float)\n",
    "    phaseRange = phaseMax - phaseMin\n",
    "    magnitudeRange = magnitudeMax - magnitudeMin\n",
    "     \n",
    "#     print(magnitudeVals)\n",
    "#     print(phaseVals)\n",
    "#     print(phaseRange)\n",
    "#     print(magnitudeRange)\n",
    "    \n",
    "    for w in range(width):\n",
    "        for h in range(height):\n",
    "            phaseVals[h,w] = (phaseVals[h,w] / 255 * phaseRange) + phaseMin\n",
    "            magnitudeVals[h,w] = weakenAmplifiedMagnitude(magnitudeVals[h,w])\n",
    "            magnitudeVals[h,w] = (magnitudeVals[h,w] / (255*2) * magnitudeRange) + magnitudeMin\n",
    "    return magnitudeVals, phaseVals"
   ]
  },
  {
   "cell_type": "code",
   "execution_count": 7,
   "metadata": {},
   "outputs": [],
   "source": [
    "def generateSpectrogramForWave(signal):\n",
    "    start_time = time.time()\n",
    "    global magnitudeMin\n",
    "    global magnitudeMax\n",
    "    global phaseMin\n",
    "    global phaseMax\n",
    "    buffer = np.zeros(int(signal.size + WINDOW_STEP - (signal.size % WINDOW_STEP)))\n",
    "    buffer[0:len(signal)] = signal\n",
    "    height = int(FFT_LENGTH / 2 + 1)\n",
    "    width = int(len(buffer) / (WINDOW_STEP) - 1)\n",
    "    magnitudePixels = np.zeros((height, width))\n",
    "    phasePixels = np.zeros((height, width))\n",
    "\n",
    "    for w in range(width):\n",
    "        buff = np.zeros(FFT_LENGTH)\n",
    "        stepBuff = buffer[w*WINDOW_STEP:w*WINDOW_STEP + WINDOW_LENGTH]\n",
    "        # apply hanning window\n",
    "        stepBuff = stepBuff * np.hanning(WINDOW_LENGTH)\n",
    "        buff[0:len(stepBuff)] = stepBuff\n",
    "        #buff now contains windowed signal with step length and padded with zeroes to the end\n",
    "        fft = np.fft.rfft(buff)\n",
    "        for h in range(len(fft)):\n",
    "            #print(buff.shape)\n",
    "            #return\n",
    "            magnitude = math.sqrt(fft[h].real**2 + fft[h].imag**2)\n",
    "            if magnitude > magnitudeMax:\n",
    "                magnitudeMax = magnitude \n",
    "            if magnitude < magnitudeMin:\n",
    "                magnitudeMin = magnitude \n",
    "\n",
    "            phase = math.atan2(fft[h].imag, fft[h].real)\n",
    "            if phase > phaseMax:\n",
    "                phaseMax = phase\n",
    "            if phase < phaseMin:\n",
    "                phaseMin = phase\n",
    "            magnitudePixels[height-h-1,w] = magnitude\n",
    "            phasePixels[height-h-1,w] = phase\n",
    "    rgbArray = generateLinearScale(magnitudePixels, phasePixels,\n",
    "                                  magnitudeMin, magnitudeMax, phaseMin, phaseMax)\n",
    "    \n",
    "    \n",
    "    elapsed_time = time.time() - start_time\n",
    "    print('%.2f' % elapsed_time, 's', sep='')\n",
    "    img = Image.fromarray(rgbArray, 'RGB')\n",
    "    return img"
   ]
  },
  {
   "cell_type": "code",
   "execution_count": 8,
   "metadata": {},
   "outputs": [
    {
     "name": "stdout",
     "output_type": "stream",
     "text": [
      "phaseMax -inf phaseMin inf magnitudeMax -inf magnitudeMin inf\n"
     ]
    }
   ],
   "source": [
    "print(\"phaseMax {} phaseMin {} magnitudeMax {} magnitudeMin {}\".format(phaseMax,phaseMin,magnitudeMax,magnitudeMin))"
   ]
  },
  {
   "cell_type": "code",
   "execution_count": 40,
   "metadata": {},
   "outputs": [],
   "source": [
    "path_train = './train'\n",
    "path_test = './test'\n",
    "path_ytrain = './y_train'\n",
    "path_ytest = './y_test'"
   ]
  },
  {
   "cell_type": "code",
   "execution_count": 41,
   "metadata": {},
   "outputs": [],
   "source": [
    "path_WAVA = './WAVA'\n",
    "path_WAVA = './WAVB'"
   ]
  },
  {
   "cell_type": "code",
   "execution_count": 42,
   "metadata": {},
   "outputs": [],
   "source": [
    "import random\n",
    "import shutil\n",
    "\n",
    "random.seed(42)"
   ]
  },
  {
   "cell_type": "code",
   "execution_count": 8,
   "metadata": {},
   "outputs": [],
   "source": [
    "# Create 1 sec wav files and store it in *.npy format"
   ]
  },
  {
   "cell_type": "code",
   "execution_count": 1,
   "metadata": {},
   "outputs": [],
   "source": [
    "for filename in tqdm(glob.glob(os.path.join(path_train, '*.wav'))):\n",
    "    rate, data = wavfile.read(filename)\n",
    "    if len(data.shape) >= 2 and data.size > 0:\n",
    "        if data.shape[-1] > 1:\n",
    "            data = data.mean(axis=-1)\n",
    "        else:\n",
    "            data = np.reshape(data, data.shape[:-1])\n",
    "        \n",
    "    if np.shape(data)[0] / float(rate) > 1:\n",
    "        data = data[0 : rate * 1]\n",
    "            \n",
    "    img = generateSpectrogramForWave(data)\n",
    "#     img.save(filename[:-4]+'.png')\n",
    "    np.save(filename[:-4]+'.npy', img) # save"
   ]
  },
  {
   "cell_type": "code",
   "execution_count": 44,
   "metadata": {},
   "outputs": [
    {
     "name": "stdout",
     "output_type": "stream",
     "text": [
      "phaseMax 3.141592653589793 phaseMin -3.141592653589793 magnitudeMax 2211683.973249525 magnitudeMin 0.0\n"
     ]
    }
   ],
   "source": [
    "print(\"phaseMax {} phaseMin {} magnitudeMax {} magnitudeMin {}\".format(phaseMax,phaseMin,magnitudeMax,magnitudeMin))"
   ]
  },
  {
   "cell_type": "code",
   "execution_count": 2,
   "metadata": {},
   "outputs": [],
   "source": [
    "for filename in tqdm(glob.glob(os.path.join(path_test, '*.wav'))):\n",
    "    rate, data = wavfile.read(filename)\n",
    "    if len(data.shape) >= 2 and data.size > 0:\n",
    "        if data.shape[-1] > 1:\n",
    "            data = data.mean(axis=-1)\n",
    "        else:\n",
    "            data = np.reshape(data, data.shape[:-1])\n",
    "        \n",
    "    if np.shape(data)[0] / float(rate) > 1:\n",
    "        data = data[0 : rate * 1]\n",
    "            \n",
    "    img = generateSpectrogramForWave(data)\n",
    "    np.save(filename[:-4]+'.npy', img) # save"
   ]
  },
  {
   "cell_type": "code",
   "execution_count": 46,
   "metadata": {},
   "outputs": [
    {
     "name": "stdout",
     "output_type": "stream",
     "text": [
      "phaseMax 3.141592653589793 phaseMin -3.141592653589793 magnitudeMax 2211683.973249525 magnitudeMin 0.0\n"
     ]
    }
   ],
   "source": [
    "print(\"phaseMax {} phaseMin {} magnitudeMax {} magnitudeMin {}\".format(phaseMax,phaseMin,magnitudeMax,magnitudeMin))"
   ]
  },
  {
   "cell_type": "code",
   "execution_count": 3,
   "metadata": {},
   "outputs": [],
   "source": [
    "for filename in tqdm(glob.glob(os.path.join(path_ytrain, '*.wav'))):\n",
    "    rate, data = wavfile.read(filename)\n",
    "    if len(data.shape) >= 2 and data.size > 0:\n",
    "        if data.shape[-1] > 1:\n",
    "            data = data.mean(axis=-1)\n",
    "        else:\n",
    "            data = np.reshape(data, data.shape[:-1])\n",
    "        \n",
    "    if np.shape(data)[0] / float(rate) > 1:\n",
    "        data = data[0 : rate * 1]\n",
    "            \n",
    "    img = generateSpectrogramForWave(data)\n",
    "    np.save(filename[:-4]+'.npy', img) # save"
   ]
  },
  {
   "cell_type": "code",
   "execution_count": 48,
   "metadata": {},
   "outputs": [
    {
     "name": "stdout",
     "output_type": "stream",
     "text": [
      "phaseMax 3.141592653589793 phaseMin -3.141592653589793 magnitudeMax 5432292.907520762 magnitudeMin 0.0\n"
     ]
    }
   ],
   "source": [
    "print(\"phaseMax {} phaseMin {} magnitudeMax {} magnitudeMin {}\".format(phaseMax,phaseMin,magnitudeMax,magnitudeMin))"
   ]
  },
  {
   "cell_type": "code",
   "execution_count": 4,
   "metadata": {},
   "outputs": [],
   "source": [
    "for filename in tqdm(glob.glob(os.path.join(path_ytest, '*.wav'))):\n",
    "    rate, data = wavfile.read(filename)\n",
    "    if len(data.shape) >= 2 and data.size > 0:\n",
    "        if data.shape[-1] > 1:\n",
    "            data = data.mean(axis=-1)\n",
    "        else:\n",
    "            data = np.reshape(data, data.shape[:-1])\n",
    "        \n",
    "    if np.shape(data)[0] / float(rate) > 1:\n",
    "        data = data[0 : rate * 1]\n",
    "            \n",
    "    img = generateSpectrogramForWave(data)\n",
    "    np.save(filename[:-4]+'.npy', img) # save"
   ]
  },
  {
   "cell_type": "code",
   "execution_count": 50,
   "metadata": {},
   "outputs": [
    {
     "name": "stdout",
     "output_type": "stream",
     "text": [
      "phaseMax 3.141592653589793 phaseMin -3.141592653589793 magnitudeMax 5432292.907520762 magnitudeMin 0.0\n"
     ]
    }
   ],
   "source": [
    "print(\"phaseMax {} phaseMin {} magnitudeMax {} magnitudeMin {}\".format(phaseMax,phaseMin,magnitudeMax,magnitudeMin))"
   ]
  },
  {
   "cell_type": "code",
   "execution_count": 51,
   "metadata": {},
   "outputs": [],
   "source": [
    "path_mat_train = './mat_train'\n",
    "path_mat_test = './mat_test'\n",
    "path_mat_ytrain = './mat_ytrain'\n",
    "path_mat_ytest = './mat_ytest'"
   ]
  },
  {
   "cell_type": "code",
   "execution_count": 65,
   "metadata": {},
   "outputs": [],
   "source": [
    "for filename in glob.glob(os.path.join(path_train, '*.npy')):\n",
    "    shutil.copy(filename, path_mat_train)\n",
    "    os.remove(filename)\n",
    "for filename in glob.glob(os.path.join(path_ytrain, '*.npy')):\n",
    "    shutil.copy(filename, path_mat_ytrain)\n",
    "    os.remove(filename) \n",
    "\n",
    "    \n",
    "for filename in glob.glob(os.path.join(path_test, '*.npy')):\n",
    "    shutil.copy(filename, path_mat_test)\n",
    "    os.remove(filename)    \n",
    "for filename in glob.glob(os.path.join(path_ytest, '*.npy')):\n",
    "    shutil.copy(filename, path_mat_ytest)\n",
    "    os.remove(filename)"
   ]
  },
  {
   "cell_type": "code",
   "execution_count": 10,
   "metadata": {},
   "outputs": [],
   "source": [
    "# Use below initialization values for recovery"
   ]
  },
  {
   "cell_type": "code",
   "execution_count": 11,
   "metadata": {},
   "outputs": [],
   "source": [
    "phaseMax = 3.141592653589793 \n",
    "phaseMin = -3.141592653589793\n",
    "magnitudeMax = 2211683.973249525\n",
    "magnitudeMin = 0.0\n",
    "\n",
    "rate = 16000"
   ]
  },
  {
   "cell_type": "code",
   "execution_count": 61,
   "metadata": {},
   "outputs": [],
   "source": [
    "def recoverSignalFromSpectrogram(numpyarray):\n",
    "#     img = Image.open(filePath)\n",
    "    data = np.array( numpyarray, dtype='uint8' )\n",
    "    width = data.shape[1]\n",
    "    height = data.shape[0]\n",
    "\n",
    "    magnitudeVals, phaseVals \\\n",
    "    = recoverLinearScale(data, magnitudeMin, magnitudeMax, phaseMin, phaseMax)\n",
    "        \n",
    "    recovered = np.zeros(WINDOW_LENGTH * width // 2 + WINDOW_STEP, dtype=np.int16)\n",
    "    recovered = np.array(recovered,dtype=np.int16)\n",
    "    \n",
    "    for w in range(width):\n",
    "        toInverse = np.zeros(height, dtype=np.complex_)\n",
    "        for h in range(height):\n",
    "            magnitude = magnitudeVals[height-h-1,w]\n",
    "            phase = phaseVals[height-h-1,w]\n",
    "            toInverse[h] = magnitude * math.cos(phase) + (1j * magnitude * math.sin(phase))\n",
    "        signal = np.fft.irfft(toInverse)\n",
    "        recovered[w*WINDOW_STEP:w*WINDOW_STEP + WINDOW_LENGTH] += signal[:WINDOW_LENGTH].astype(np.int16)\n",
    "    return recovered"
   ]
  },
  {
   "cell_type": "code",
   "execution_count": 12,
   "metadata": {},
   "outputs": [],
   "source": [
    "# Test the recovery - convert npy to wav"
   ]
  },
  {
   "cell_type": "code",
   "execution_count": 63,
   "metadata": {},
   "outputs": [
    {
     "name": "stdout",
     "output_type": "stream",
     "text": [
      "3.141592653589793 -3.141592653589793\n"
     ]
    }
   ],
   "source": [
    "filename = path_mat_test+'/'+'19-198-0034.npy'\n",
    "new_num_arr = np.load(filename)\n",
    "new_num_arr.shape\n",
    "data = recoverSignalFromSpectrogram(new_num_arr)\n",
    "scipy.io.wavfile.write('./'+filename[:-4]+'.wav', rate, data)"
   ]
  },
  {
   "cell_type": "code",
   "execution_count": null,
   "metadata": {},
   "outputs": [],
   "source": []
  },
  {
   "cell_type": "code",
   "execution_count": null,
   "metadata": {},
   "outputs": [],
   "source": []
  }
 ],
 "metadata": {
  "kernelspec": {
   "display_name": "Python 3",
   "language": "python",
   "name": "python3"
  },
  "language_info": {
   "codemirror_mode": {
    "name": "ipython",
    "version": 3
   },
   "file_extension": ".py",
   "mimetype": "text/x-python",
   "name": "python",
   "nbconvert_exporter": "python",
   "pygments_lexer": "ipython3",
   "version": "3.7.6"
  }
 },
 "nbformat": 4,
 "nbformat_minor": 4
}
